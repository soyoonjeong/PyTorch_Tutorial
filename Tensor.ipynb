{
  "nbformat": 4,
  "nbformat_minor": 0,
  "metadata": {
    "colab": {
      "provenance": [],
      "gpuType": "T4",
      "authorship_tag": "ABX9TyP98XM7jF7RSViircFzr38F",
      "include_colab_link": true
    },
    "kernelspec": {
      "name": "python3",
      "display_name": "Python 3"
    },
    "language_info": {
      "name": "python"
    },
    "accelerator": "GPU"
  },
  "cells": [
    {
      "cell_type": "markdown",
      "metadata": {
        "id": "view-in-github",
        "colab_type": "text"
      },
      "source": [
        "<a href=\"https://colab.research.google.com/github/soyoonjeong/PyTorch_Tutorial/blob/main/Tensor.ipynb\" target=\"_parent\"><img src=\"https://colab.research.google.com/assets/colab-badge.svg\" alt=\"Open In Colab\"/></a>"
      ]
    },
    {
      "cell_type": "code",
      "execution_count": null,
      "metadata": {
        "id": "IIEAATUd49tD"
      },
      "outputs": [],
      "source": [
        "import torch\n",
        "import numpy as np"
      ]
    },
    {
      "cell_type": "markdown",
      "source": [
        "## 텐서 초기화"
      ],
      "metadata": {
        "id": "AFAlYHKu5ihT"
      }
    },
    {
      "cell_type": "code",
      "source": [
        "# 데이터로부터 직접 생성하기 => torch.tensor\n",
        "data = [[1,2],[3,4]]\n",
        "x_data = torch.tensor(data)"
      ],
      "metadata": {
        "id": "DNunFEZz5kVp"
      },
      "execution_count": null,
      "outputs": []
    },
    {
      "cell_type": "code",
      "source": [
        "# numpy 배열로부터 생성하기 => torch.from_numpy\n",
        "np_array = np.array(data)\n",
        "x_np = torch.from_numpy(np_array)"
      ],
      "metadata": {
        "id": "3oisTW_25tiB"
      },
      "execution_count": null,
      "outputs": []
    },
    {
      "cell_type": "code",
      "source": [
        "# 다른 텐서로부터 생성하기 (다른 텐서의 모양과 자료형 유지)\n",
        "x_ones = torch.ones_like(x_data) # x_data의 속성 유지, 1로 채워진, 입력 텐서와 동일한 모양의 텐서\n",
        "print(f\"Ones Tensor : \\n {x_ones} \\n\")\n",
        "\n",
        "x_rand = torch.rand_like(x_data, dtype = torch.float) # x_data의 속성을 덮어씀, 랜덤 수로 채워진, 입력 텐서와 동일한 모양의 텐서\n",
        "print(f\"Random Tensor : \\n {x_rand} \\n\")"
      ],
      "metadata": {
        "colab": {
          "base_uri": "https://localhost:8080/"
        },
        "id": "YhbFJjjp59M0",
        "outputId": "5d7b3339-60a2-42db-8800-11407e45f9cc"
      },
      "execution_count": null,
      "outputs": [
        {
          "output_type": "stream",
          "name": "stdout",
          "text": [
            "Ones Tensor : \n",
            " tensor([[1, 1],\n",
            "        [1, 1]]) \n",
            "\n",
            "Random Tensor : \n",
            " tensor([[0.5341, 0.8577],\n",
            "        [0.2100, 0.5859]]) \n",
            "\n"
          ]
        }
      ]
    },
    {
      "cell_type": "code",
      "source": [
        "# 무작위 또는 상수 값을 사용하기\n",
        "shape = (2,3)\n",
        "rand_tensor = torch.rand(shape)\n",
        "ones_tensor = torch.ones(shape)\n",
        "zeros_tensor = torch.zeros(shape)\n",
        "\n",
        "print(f\"Random Tensor : \\n {rand_tensor} \\n\")\n",
        "print(f\"Ones Tensor : \\n {ones_tensor} \\n\")\n",
        "print(f\"Zeros Tensor : \\n {zeros_tensor} \\n\")"
      ],
      "metadata": {
        "colab": {
          "base_uri": "https://localhost:8080/"
        },
        "id": "Bff-Z6xm7LiA",
        "outputId": "16b6953d-8525-48bd-daba-39ddd6f204b8"
      },
      "execution_count": null,
      "outputs": [
        {
          "output_type": "stream",
          "name": "stdout",
          "text": [
            "Random Tensor : \n",
            " tensor([[0.2673, 0.7112, 0.4666],\n",
            "        [0.2437, 0.3558, 0.3080]]) \n",
            "\n",
            "Ones Tensor : \n",
            " tensor([[1., 1., 1.],\n",
            "        [1., 1., 1.]]) \n",
            "\n",
            "Zeros Tensor : \n",
            " tensor([[0., 0., 0.],\n",
            "        [0., 0., 0.]]) \n",
            "\n"
          ]
        }
      ]
    },
    {
      "cell_type": "markdown",
      "source": [
        "## 텐서의 속성"
      ],
      "metadata": {
        "id": "maTN1nva7xnr"
      }
    },
    {
      "cell_type": "code",
      "source": [
        "tensor = torch.rand(3,4)\n",
        "\n",
        "print(f\"Shape of tensor : {tensor.shape}\") # 모양\n",
        "print(f\"Datatype of tensor : {tensor.dtype}\") # 자료형\n",
        "print(f\"Device tensor is stored on : {tensor.device}\") # 어느 장치에 저장되는지"
      ],
      "metadata": {
        "colab": {
          "base_uri": "https://localhost:8080/"
        },
        "id": "CEEyoy-T7FLF",
        "outputId": "fc3b684c-32fa-46be-ea82-5e6ff719b71e"
      },
      "execution_count": null,
      "outputs": [
        {
          "output_type": "stream",
          "name": "stdout",
          "text": [
            "Shape of tensor : torch.Size([3, 4])\n",
            "Datatype of tensor : torch.float32\n",
            "Device tensor is stored on : cpu\n"
          ]
        }
      ]
    },
    {
      "cell_type": "markdown",
      "source": [
        "## 텐서 연산"
      ],
      "metadata": {
        "id": "lMZb5dGi8ScK"
      }
    },
    {
      "cell_type": "code",
      "source": [
        "# GPU의 가용성을 확인한 뒤 GPU로 텐서를 명시적으로 이동\n",
        "# 장치들 간에 큰 텐서들을 복사하는 것은 시간과 메모리 측면에서 비용이 많이 든다\n",
        "if torch.cuda.is_available():\n",
        "  tensor = tensor.to('cuda')"
      ],
      "metadata": {
        "id": "_4WJAqmY8Vn4"
      },
      "execution_count": null,
      "outputs": []
    },
    {
      "cell_type": "code",
      "source": [
        "# NumPy식의 표준 인덱싱과 슬라이싱\n",
        "tensor = torch.ones(4,4)\n",
        "print(f\"First row : {tensor[0]}\")\n",
        "print(f\"First column : {tensor[:, 0]}\")\n",
        "print(f\"Last column : {tensor[..., -1]}\")\n",
        "tensor[:, 1] = 0\n",
        "print(tensor)"
      ],
      "metadata": {
        "colab": {
          "base_uri": "https://localhost:8080/"
        },
        "id": "1ro-7SZ4-iWV",
        "outputId": "3dc5a444-fc2e-4371-cd35-935b16e7d38b"
      },
      "execution_count": null,
      "outputs": [
        {
          "output_type": "stream",
          "name": "stdout",
          "text": [
            "First row : tensor([1., 1., 1., 1.])\n",
            "First column : tensor([1., 1., 1., 1.])\n",
            "Last column : tensor([1., 1., 1., 1.])\n",
            "tensor([[1., 0., 1., 1.],\n",
            "        [1., 0., 1., 1.],\n",
            "        [1., 0., 1., 1.],\n",
            "        [1., 0., 1., 1.]])\n"
          ]
        }
      ]
    },
    {
      "cell_type": "code",
      "source": [
        "# 텐서 합치기\n",
        "t1 = torch.cat([tensor, tensor, tensor], dim = 1)\n",
        "print(t1)"
      ],
      "metadata": {
        "colab": {
          "base_uri": "https://localhost:8080/"
        },
        "id": "hqYGkrHr8TKU",
        "outputId": "c2b9e786-ad33-4cd6-efaf-cc8d11e70239"
      },
      "execution_count": null,
      "outputs": [
        {
          "output_type": "stream",
          "name": "stdout",
          "text": [
            "tensor([[1., 0., 1., 1., 1., 0., 1., 1., 1., 0., 1., 1.],\n",
            "        [1., 0., 1., 1., 1., 0., 1., 1., 1., 0., 1., 1.],\n",
            "        [1., 0., 1., 1., 1., 0., 1., 1., 1., 0., 1., 1.],\n",
            "        [1., 0., 1., 1., 1., 0., 1., 1., 1., 0., 1., 1.]])\n"
          ]
        }
      ]
    },
    {
      "cell_type": "code",
      "source": [
        "# 산술 연산\n",
        "\n",
        "# 행렬 곱\n",
        "y1 = tensor @ tensor.T\n",
        "y2 = tensor.matmul(tensor.T)\n",
        "y3 = torch.rand_like(y1)\n",
        "torch.matmul(tensor, tensor.T, out = y3)\n",
        "\n",
        "# 요소별 곱 (element-wise product)\n",
        "z1 = tensor * tensor\n",
        "z2 = tensor.mul(tensor)\n",
        "z3 = torch.rand_like(tensor)\n",
        "torch.mul(tensor, tensor, out = z3)"
      ],
      "metadata": {
        "colab": {
          "base_uri": "https://localhost:8080/"
        },
        "id": "Byb_MDZP8a3t",
        "outputId": "d9f90bf4-c7e3-4b58-c3c5-e7b49fb87b4a"
      },
      "execution_count": null,
      "outputs": [
        {
          "output_type": "execute_result",
          "data": {
            "text/plain": [
              "tensor([[1., 0., 1., 1.],\n",
              "        [1., 0., 1., 1.],\n",
              "        [1., 0., 1., 1.],\n",
              "        [1., 0., 1., 1.]])"
            ]
          },
          "metadata": {},
          "execution_count": 16
        }
      ]
    },
    {
      "cell_type": "code",
      "source": [
        "# 단일 요소 텐서\n",
        "agg = tensor.sum()\n",
        "agg_item = agg.item() # 텐서의 모든 값을 하나로 집계하여 요소가 하나인 텐서인 경우, item()을 사용하여 숫자 값으로 변환할 수 있음\n",
        "print(agg_item, type(agg_item))"
      ],
      "metadata": {
        "colab": {
          "base_uri": "https://localhost:8080/"
        },
        "id": "8_vJodfu9GMi",
        "outputId": "830e2c1f-fa17-4f39-e4dd-fa8ff4881bd0"
      },
      "execution_count": null,
      "outputs": [
        {
          "output_type": "stream",
          "name": "stdout",
          "text": [
            "12.0 <class 'float'>\n"
          ]
        }
      ]
    },
    {
      "cell_type": "code",
      "source": [
        "# 바꿔치기 연산 : 연산 결과를 피연산자에 저장하는 연산\n",
        "# 바꿔치기 연산은 메모리를 일부 절약하지만 기록이 즉시 삭제되어 도함수 계산에 문제가 발생할 수 있음\n",
        "# 바꿔치기 연산은 되도록 사용하지 말것\n",
        "print(f\"{tensor} \\n\")\n",
        "tensor.add_(5)\n",
        "print(tensor)"
      ],
      "metadata": {
        "colab": {
          "base_uri": "https://localhost:8080/"
        },
        "id": "Dnw2yniu95Eg",
        "outputId": "d82f2ea7-e10c-4535-c29d-9eec5032f78f"
      },
      "execution_count": null,
      "outputs": [
        {
          "output_type": "stream",
          "name": "stdout",
          "text": [
            "tensor([[1., 0., 1., 1.],\n",
            "        [1., 0., 1., 1.],\n",
            "        [1., 0., 1., 1.],\n",
            "        [1., 0., 1., 1.]]) \n",
            "\n",
            "tensor([[6., 5., 6., 6.],\n",
            "        [6., 5., 6., 6.],\n",
            "        [6., 5., 6., 6.],\n",
            "        [6., 5., 6., 6.]])\n"
          ]
        }
      ]
    },
    {
      "cell_type": "markdown",
      "source": [
        "## NumPy 변환"
      ],
      "metadata": {
        "id": "GPNuVbtm_pVl"
      }
    },
    {
      "cell_type": "code",
      "source": [
        "# 텐서를 NumPy 배열로 변환하기\n",
        "t = torch.ones(5)\n",
        "print(f\"t : {t}\")\n",
        "n = t.numpy()\n",
        "print(f\"n : {n}\")"
      ],
      "metadata": {
        "colab": {
          "base_uri": "https://localhost:8080/"
        },
        "id": "Ere0RbPM_hUk",
        "outputId": "89f7d3cd-69ae-4943-c65e-0234c9b8a180"
      },
      "execution_count": null,
      "outputs": [
        {
          "output_type": "stream",
          "name": "stdout",
          "text": [
            "t : tensor([1., 1., 1., 1., 1.])\n",
            "n : [1. 1. 1. 1. 1.]\n"
          ]
        }
      ]
    },
    {
      "cell_type": "code",
      "source": [
        "# CPU 상의 텐서와 NumPy 배열은 메모리 공간을 공유하기 때문에, 하나를 변경하면 다른 하나도 변경됩니다.\n",
        "# 텐서의 변경 사항이 NumPy 배열에 반영됩니다.\n",
        "t.add_(1)\n",
        "print(f\"t : {t}\")\n",
        "print(f\"n : {n}\")"
      ],
      "metadata": {
        "colab": {
          "base_uri": "https://localhost:8080/"
        },
        "id": "551Pb480AAk3",
        "outputId": "5aa44ecb-a171-4aef-c72b-247d83fa39a6"
      },
      "execution_count": null,
      "outputs": [
        {
          "output_type": "stream",
          "name": "stdout",
          "text": [
            "t : tensor([2., 2., 2., 2., 2.])\n",
            "n : [2. 2. 2. 2. 2.]\n"
          ]
        }
      ]
    },
    {
      "cell_type": "code",
      "source": [
        "# NumPy 배열을 텐서로 변환하기\n",
        "n = np.ones(5)\n",
        "t = torch.from_numpy(n)\n",
        "print(f\"t : {t}\")\n",
        "print(f\"n : {n}\")"
      ],
      "metadata": {
        "colab": {
          "base_uri": "https://localhost:8080/"
        },
        "id": "ob1bKBLqAXvH",
        "outputId": "32c06d14-f1ba-401f-8cda-e5bf788c60b0"
      },
      "execution_count": null,
      "outputs": [
        {
          "output_type": "stream",
          "name": "stdout",
          "text": [
            "t : tensor([1., 1., 1., 1., 1.], dtype=torch.float64)\n",
            "n : [1. 1. 1. 1. 1.]\n"
          ]
        }
      ]
    },
    {
      "cell_type": "code",
      "source": [
        "# NumPy 배열의 변경사항이 텐서에 반영됩니다.\n",
        "np.add(n, 1, out = n)\n",
        "print(f\"t : {t}\")\n",
        "print(f\"n : {n}\")"
      ],
      "metadata": {
        "colab": {
          "base_uri": "https://localhost:8080/"
        },
        "id": "GBq8VErOAklq",
        "outputId": "5a9fcab2-6af5-40a5-bec2-5ef43ca2137b"
      },
      "execution_count": null,
      "outputs": [
        {
          "output_type": "stream",
          "name": "stdout",
          "text": [
            "t : tensor([2., 2., 2., 2., 2.], dtype=torch.float64)\n",
            "n : [2. 2. 2. 2. 2.]\n"
          ]
        }
      ]
    }
  ]
}