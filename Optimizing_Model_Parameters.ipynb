{
  "nbformat": 4,
  "nbformat_minor": 0,
  "metadata": {
    "colab": {
      "provenance": [],
      "authorship_tag": "ABX9TyPocypTyd5slI0c6fM++Ep2",
      "include_colab_link": true
    },
    "kernelspec": {
      "name": "python3",
      "display_name": "Python 3"
    },
    "language_info": {
      "name": "python"
    }
  },
  "cells": [
    {
      "cell_type": "markdown",
      "metadata": {
        "id": "view-in-github",
        "colab_type": "text"
      },
      "source": [
        "<a href=\"https://colab.research.google.com/github/soyoonjeong/PyTorch_Tutorial/blob/main/Optimizing_Model_Parameters.ipynb\" target=\"_parent\"><img src=\"https://colab.research.google.com/assets/colab-badge.svg\" alt=\"Open In Colab\"/></a>"
      ]
    },
    {
      "cell_type": "markdown",
      "source": [
        "# 데이터, 데이터로더, 신경망 모델"
      ],
      "metadata": {
        "id": "csg7WOzw_tuz"
      }
    },
    {
      "cell_type": "code",
      "execution_count": 1,
      "metadata": {
        "colab": {
          "base_uri": "https://localhost:8080/"
        },
        "id": "cgH8EAj9M-vV",
        "outputId": "45417dec-0f9b-4bc6-bf6d-771c5c79fde7"
      },
      "outputs": [
        {
          "output_type": "stream",
          "name": "stdout",
          "text": [
            "Downloading http://fashion-mnist.s3-website.eu-central-1.amazonaws.com/train-images-idx3-ubyte.gz\n",
            "Downloading http://fashion-mnist.s3-website.eu-central-1.amazonaws.com/train-images-idx3-ubyte.gz to data/FashionMNIST/raw/train-images-idx3-ubyte.gz\n"
          ]
        },
        {
          "output_type": "stream",
          "name": "stderr",
          "text": [
            "100%|██████████| 26421880/26421880 [00:02<00:00, 9873318.68it/s] \n"
          ]
        },
        {
          "output_type": "stream",
          "name": "stdout",
          "text": [
            "Extracting data/FashionMNIST/raw/train-images-idx3-ubyte.gz to data/FashionMNIST/raw\n",
            "\n",
            "Downloading http://fashion-mnist.s3-website.eu-central-1.amazonaws.com/train-labels-idx1-ubyte.gz\n",
            "Downloading http://fashion-mnist.s3-website.eu-central-1.amazonaws.com/train-labels-idx1-ubyte.gz to data/FashionMNIST/raw/train-labels-idx1-ubyte.gz\n"
          ]
        },
        {
          "output_type": "stream",
          "name": "stderr",
          "text": [
            "100%|██████████| 29515/29515 [00:00<00:00, 199392.59it/s]\n"
          ]
        },
        {
          "output_type": "stream",
          "name": "stdout",
          "text": [
            "Extracting data/FashionMNIST/raw/train-labels-idx1-ubyte.gz to data/FashionMNIST/raw\n",
            "\n",
            "Downloading http://fashion-mnist.s3-website.eu-central-1.amazonaws.com/t10k-images-idx3-ubyte.gz\n",
            "Downloading http://fashion-mnist.s3-website.eu-central-1.amazonaws.com/t10k-images-idx3-ubyte.gz to data/FashionMNIST/raw/t10k-images-idx3-ubyte.gz\n"
          ]
        },
        {
          "output_type": "stream",
          "name": "stderr",
          "text": [
            "100%|██████████| 4422102/4422102 [00:01<00:00, 3720858.03it/s]\n"
          ]
        },
        {
          "output_type": "stream",
          "name": "stdout",
          "text": [
            "Extracting data/FashionMNIST/raw/t10k-images-idx3-ubyte.gz to data/FashionMNIST/raw\n",
            "\n",
            "Downloading http://fashion-mnist.s3-website.eu-central-1.amazonaws.com/t10k-labels-idx1-ubyte.gz\n",
            "Downloading http://fashion-mnist.s3-website.eu-central-1.amazonaws.com/t10k-labels-idx1-ubyte.gz to data/FashionMNIST/raw/t10k-labels-idx1-ubyte.gz\n"
          ]
        },
        {
          "output_type": "stream",
          "name": "stderr",
          "text": [
            "100%|██████████| 5148/5148 [00:00<00:00, 4267248.42it/s]\n"
          ]
        },
        {
          "output_type": "stream",
          "name": "stdout",
          "text": [
            "Extracting data/FashionMNIST/raw/t10k-labels-idx1-ubyte.gz to data/FashionMNIST/raw\n",
            "\n"
          ]
        }
      ],
      "source": [
        "import torch\n",
        "from torch import nn\n",
        "from torch.utils.data import DataLoader\n",
        "from torchvision import datasets\n",
        "from torchvision.transforms import ToTensor\n",
        "\n",
        "training_data = datasets.FashionMNIST(\n",
        "    root = 'data',\n",
        "    train = True,\n",
        "    download = True,\n",
        "    transform = ToTensor()\n",
        ")\n",
        "\n",
        "test_data = datasets.FashionMNIST(\n",
        "    root = 'data',\n",
        "    train = False,\n",
        "    download = True,\n",
        "    transform = ToTensor()\n",
        ")\n",
        "\n",
        "train_dataloader = DataLoader(training_data, batch_size = 64)\n",
        "test_dataloader = DataLoader(test_data, batch_size = 64)\n",
        "\n",
        "class NeuralNetwork(nn.Module):\n",
        "  def __init__(self):\n",
        "    super(NeuralNetwork, self).__init__()\n",
        "    self.flatten = nn.Flatten()\n",
        "    self.linear_relu_stack = nn.Sequential(\n",
        "        nn.Linear(28*28, 512),\n",
        "        nn.ReLU(),\n",
        "        nn.Linear(512,512),\n",
        "        nn.ReLU(),\n",
        "        nn.Linear(512, 10)\n",
        "    )\n",
        "\n",
        "  def forward(self, x):\n",
        "    x = self.flatten(x)\n",
        "    logits = self.linear_relu_stack(x)\n",
        "    return logits\n",
        "\n",
        "model = NeuralNetwork()"
      ]
    },
    {
      "cell_type": "markdown",
      "source": [
        "# 최적화 단계"
      ],
      "metadata": {
        "id": "99YCzCh1_y8b"
      }
    },
    {
      "cell_type": "markdown",
      "source": [
        "## 학습 단계"
      ],
      "metadata": {
        "id": "OL7Xf_RIBFL_"
      }
    },
    {
      "cell_type": "code",
      "source": [
        "def train_loop(dataloader, model, loss_fn, optimizer):\n",
        "  size = len(dataloader.dataset)\n",
        "  for batch, (X, y) in enumerate(dataloader):\n",
        "    pred = model(X)\n",
        "    loss = loss_fn(pred, y)\n",
        "\n",
        "    # 역전파\n",
        "    optimizer.zero_grad() # 모델 매개변수의 변화도 재설정, 기본적으로 변화도는 더해지기 때문에 중복 계산을 막기 위해 반복할 때마다 명시적으로 0으로 설정\n",
        "    loss.backward() # 예측 손실을 역전파\n",
        "    optimizer.step() # 역전파 단계에서 수집된 변화도로 매개변수 조정\n",
        "\n",
        "    if batch % 100 == 0:\n",
        "      loss, current = loss.item(), (batch+1) *len(X)\n",
        "      print(f\"loss: {loss:>7f} [{current:>5d}/{size:>5d}]\")"
      ],
      "metadata": {
        "id": "GgpdpoEnBHoh"
      },
      "execution_count": 5,
      "outputs": []
    },
    {
      "cell_type": "markdown",
      "source": [
        "## 검증/테스트 단계"
      ],
      "metadata": {
        "id": "M0SH6BEuFNSV"
      }
    },
    {
      "cell_type": "code",
      "source": [
        "def test_loop(dataloader, model, loss_fn):\n",
        "  size = len(dataloader.dataset)\n",
        "  num_batches = len(dataloader)\n",
        "  test_loss, correct = 0, 0\n",
        "\n",
        "  with torch.no_grad():\n",
        "    for X, y in dataloader:\n",
        "      pred = model(X)\n",
        "      test_loss += loss_fn(pred, y).item()\n",
        "      correct += (pred.argmax(1) == y).type(torch.float).sum().item()\n",
        "\n",
        "  test_loss /= num_batches\n",
        "  correct /= size\n",
        "  print(f\"Test Error : \\n Accuracy : {(100 * correct):>0.1f}%, Avg loss : {test_loss:>8f} \\n\")"
      ],
      "metadata": {
        "id": "CLn3-S-iEIEx"
      },
      "execution_count": 6,
      "outputs": []
    },
    {
      "cell_type": "markdown",
      "source": [
        "## 실행"
      ],
      "metadata": {
        "id": "TQfEYORRFXMo"
      }
    },
    {
      "cell_type": "code",
      "source": [
        "# 하이퍼파라미터\n",
        "learning_rate = 1e-3 # 각 배치/에폭에서 모델의 매개변수를 조절하는 비율\n",
        "batch_size = 64 #매개변수가 갱신되기 전 신경망을 통해 전파된 데이터 샘플의 수\n",
        "epochs = 5 # 데이터셋을 반복하는 횟수\n",
        "\n",
        "# 손실함수 : 획득한 결과와 실제 값 사이의 틀린 정도를 측정하며 학습 중에 이 값을 최소화하려고 합니다.\n",
        "loss_fn = nn.CrossEntropyLoss()\n",
        "\n",
        "# 옵티마이저\n",
        "optimizer = torch.optim.SGD(model.parameters(), lr = learning_rate)\n",
        "\n",
        "for t in range(epochs):\n",
        "  print(f\"Epoch {t+1}\\n----------------------------------\")\n",
        "  train_loop(train_dataloader, model, loss_fn, optimizer)\n",
        "  test_loop(test_dataloader, model, loss_fn)\n",
        "print('Done!')"
      ],
      "metadata": {
        "colab": {
          "base_uri": "https://localhost:8080/"
        },
        "id": "ADytu5h8FZFG",
        "outputId": "34e00fc2-c593-4325-937d-5b5b6a07b7ff"
      },
      "execution_count": 7,
      "outputs": [
        {
          "output_type": "stream",
          "name": "stdout",
          "text": [
            "Epoch 1\n",
            "----------------------------------\n",
            "loss: 2.300719 [   64/60000]\n",
            "loss: 2.294544 [ 6464/60000]\n",
            "loss: 2.271669 [12864/60000]\n",
            "loss: 2.272706 [19264/60000]\n",
            "loss: 2.251785 [25664/60000]\n",
            "loss: 2.223552 [32064/60000]\n",
            "loss: 2.238492 [38464/60000]\n",
            "loss: 2.204646 [44864/60000]\n",
            "loss: 2.205693 [51264/60000]\n",
            "loss: 2.173919 [57664/60000]\n",
            "Test Error : \n",
            " Accuracy : 34.6%, Avg loss : 2.170108 \n",
            "\n",
            "Epoch 2\n",
            "----------------------------------\n",
            "loss: 2.177046 [   64/60000]\n",
            "loss: 2.169382 [ 6464/60000]\n",
            "loss: 2.109457 [12864/60000]\n",
            "loss: 2.133195 [19264/60000]\n",
            "loss: 2.073181 [25664/60000]\n",
            "loss: 2.022721 [32064/60000]\n",
            "loss: 2.058679 [38464/60000]\n",
            "loss: 1.984478 [44864/60000]\n",
            "loss: 1.993052 [51264/60000]\n",
            "loss: 1.913292 [57664/60000]\n",
            "Test Error : \n",
            " Accuracy : 55.4%, Avg loss : 1.917976 \n",
            "\n",
            "Epoch 3\n",
            "----------------------------------\n",
            "loss: 1.948512 [   64/60000]\n",
            "loss: 1.915752 [ 6464/60000]\n",
            "loss: 1.801041 [12864/60000]\n",
            "loss: 1.846506 [19264/60000]\n",
            "loss: 1.722729 [25664/60000]\n",
            "loss: 1.683141 [32064/60000]\n",
            "loss: 1.707746 [38464/60000]\n",
            "loss: 1.613305 [44864/60000]\n",
            "loss: 1.631807 [51264/60000]\n",
            "loss: 1.522165 [57664/60000]\n",
            "Test Error : \n",
            " Accuracy : 63.3%, Avg loss : 1.546759 \n",
            "\n",
            "Epoch 4\n",
            "----------------------------------\n",
            "loss: 1.609656 [   64/60000]\n",
            "loss: 1.573523 [ 6464/60000]\n",
            "loss: 1.424247 [12864/60000]\n",
            "loss: 1.494501 [19264/60000]\n",
            "loss: 1.364713 [25664/60000]\n",
            "loss: 1.366991 [32064/60000]\n",
            "loss: 1.377330 [38464/60000]\n",
            "loss: 1.305473 [44864/60000]\n",
            "loss: 1.328810 [51264/60000]\n",
            "loss: 1.233695 [57664/60000]\n",
            "Test Error : \n",
            " Accuracy : 64.4%, Avg loss : 1.262120 \n",
            "\n",
            "Epoch 5\n",
            "----------------------------------\n",
            "loss: 1.332748 [   64/60000]\n",
            "loss: 1.318672 [ 6464/60000]\n",
            "loss: 1.147516 [12864/60000]\n",
            "loss: 1.256233 [19264/60000]\n",
            "loss: 1.125608 [25664/60000]\n",
            "loss: 1.153660 [32064/60000]\n",
            "loss: 1.171563 [38464/60000]\n",
            "loss: 1.111875 [44864/60000]\n",
            "loss: 1.140903 [51264/60000]\n",
            "loss: 1.064768 [57664/60000]\n",
            "Test Error : \n",
            " Accuracy : 65.2%, Avg loss : 1.085503 \n",
            "\n",
            "Done!\n"
          ]
        }
      ]
    }
  ]
}