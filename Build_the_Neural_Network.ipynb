{
  "nbformat": 4,
  "nbformat_minor": 0,
  "metadata": {
    "colab": {
      "provenance": [],
      "gpuType": "T4",
      "authorship_tag": "ABX9TyORGt+XgUeNPEl/Wq/zjQhL",
      "include_colab_link": true
    },
    "kernelspec": {
      "name": "python3",
      "display_name": "Python 3"
    },
    "language_info": {
      "name": "python"
    },
    "accelerator": "GPU"
  },
  "cells": [
    {
      "cell_type": "markdown",
      "metadata": {
        "id": "view-in-github",
        "colab_type": "text"
      },
      "source": [
        "<a href=\"https://colab.research.google.com/github/soyoonjeong/PyTorch_Tutorial/blob/main/Build_the_Neural_Network.ipynb\" target=\"_parent\"><img src=\"https://colab.research.google.com/assets/colab-badge.svg\" alt=\"Open In Colab\"/></a>"
      ]
    },
    {
      "cell_type": "code",
      "execution_count": 16,
      "metadata": {
        "id": "2kKv_J_duSZO"
      },
      "outputs": [],
      "source": [
        "import os\n",
        "import torch\n",
        "from torch import nn\n",
        "from torch.utils.data import DataLoader\n",
        "from torchvision import datasets, transforms"
      ]
    },
    {
      "cell_type": "markdown",
      "source": [
        "## 학습을 위한 장치 얻기"
      ],
      "metadata": {
        "id": "_fqgOwXo3GjZ"
      }
    },
    {
      "cell_type": "code",
      "source": [
        "device =  \"cuda\" if torch.cuda.is_available() else \"mps\" if torch.backends.mps.is_available() else \"cpu\"\n",
        "print(f\"Using {device} device\") # 가능한 경우 GPU 또는 MPS와 같은 하드웨어 가속기에서 모델을 학습하려고 함, 가능하지 않으면 CPU 계속 사용"
      ],
      "metadata": {
        "colab": {
          "base_uri": "https://localhost:8080/"
        },
        "id": "4ZHejSNgvH0B",
        "outputId": "2fb0e426-3354-4a27-9e7e-77e730cff4f0"
      },
      "execution_count": 19,
      "outputs": [
        {
          "output_type": "stream",
          "name": "stdout",
          "text": [
            "Using cuda device\n"
          ]
        }
      ]
    },
    {
      "cell_type": "markdown",
      "source": [
        "## 클래스 정의하기\n",
        "신경망 모델을 nn.Module의 하위 클래스로 정의하고 \\_\\_init__에서 신경망 계층들을 초기화, forward에서 입력 데이터에 대한 연산들을 구현"
      ],
      "metadata": {
        "id": "hwtUjUmBvlWQ"
      }
    },
    {
      "cell_type": "code",
      "source": [
        "class NeuralNetwork(nn.Module):\n",
        "  def __init__(self):\n",
        "    super().__init__()\n",
        "    self.flatten = nn.Flatten() # dim = 0의 미니배치 차원은 유지한 채로 2d 이미지를 연속된 배열로 변환\n",
        "    self.linear_relu_stack = nn.Sequential( # 3층 신경망, nn.Sequential은 순서를 갖는 모듈의 컨테이너\n",
        "        nn.Linear(28*28, 512), # 저장된 가중치와 편향을 사용하여 입력에 선형 변환을 적용\n",
        "        nn.ReLU(), # 활성화 함수 : 모델의 입력과 출력 사이에 비선형성 도입\n",
        "        nn.Linear(512, 512),\n",
        "        nn.ReLU(),\n",
        "        nn.Linear(512, 10),\n",
        "    )\n",
        "  def forward(self, x):\n",
        "    x = self.flatten(x)\n",
        "    logits = self.linear_relu_stack(x)\n",
        "    return logits"
      ],
      "metadata": {
        "id": "2cSE1XFOviOC"
      },
      "execution_count": 24,
      "outputs": []
    },
    {
      "cell_type": "code",
      "source": [
        "model = NeuralNetwork().to(device = device) # 신경망 모델 인스턴스 생성하고 이를 device로 이동\n",
        "print(model)"
      ],
      "metadata": {
        "colab": {
          "base_uri": "https://localhost:8080/"
        },
        "id": "dTWAokDAwo_W",
        "outputId": "881addc1-d16a-44fc-829c-83bcbfc57436"
      },
      "execution_count": 25,
      "outputs": [
        {
          "output_type": "stream",
          "name": "stdout",
          "text": [
            "NeuralNetwork(\n",
            "  (flatten): Flatten(start_dim=1, end_dim=-1)\n",
            "  (linear_relu_stack): Sequential(\n",
            "    (0): Linear(in_features=784, out_features=512, bias=True)\n",
            "    (1): ReLU()\n",
            "    (2): Linear(in_features=512, out_features=512, bias=True)\n",
            "    (3): ReLU()\n",
            "    (4): Linear(in_features=512, out_features=10, bias=True)\n",
            "  )\n",
            ")\n"
          ]
        }
      ]
    },
    {
      "cell_type": "code",
      "source": [
        "X = torch.randn((1, 28, 28), device = device)\n",
        "logits = model(X) # 모델을 사용하기 위해 입력 데이터 전달, 일부 백그라운드 연산들과 함께 모델의 forward를 실행 (직접 forward() 호출 X)\n",
        "print(logits)\n",
        "pred_probab = nn.Softmax(dim = 1)(logits) # 예측 확률\n",
        "y_pred = pred_probab.argmax(1)\n",
        "print(f\"Predicted class : {y_pred}\")"
      ],
      "metadata": {
        "colab": {
          "base_uri": "https://localhost:8080/"
        },
        "id": "ZdlpULr2yjEa",
        "outputId": "3dd97df4-55a7-48ea-b58b-2d83b0bd213d"
      },
      "execution_count": 26,
      "outputs": [
        {
          "output_type": "stream",
          "name": "stdout",
          "text": [
            "tensor([[ 0.1333, -0.0055, -0.1402, -0.1327, -0.0817,  0.0821, -0.1909,  0.0133,\n",
            "         -0.0660, -0.1304]], device='cuda:0', grad_fn=<AddmmBackward0>)\n",
            "Predicted class : tensor([0], device='cuda:0')\n"
          ]
        }
      ]
    },
    {
      "cell_type": "markdown",
      "source": [
        "## 모델 매개변수"
      ],
      "metadata": {
        "id": "e1Sfj8uo3L4T"
      }
    },
    {
      "cell_type": "code",
      "source": [
        "print(f\"Model Structure : {model}\\n\\n\")\n",
        "\n",
        "for name, param in model.named_parameters():\n",
        "  print(f\"Layer : {name} | Size : {param.size()} | Values : {param[:2]} \\n\")"
      ],
      "metadata": {
        "colab": {
          "base_uri": "https://localhost:8080/"
        },
        "id": "N9oVBFb42JWQ",
        "outputId": "c0f0d1a6-cf75-4084-d9ce-cb8b23693306"
      },
      "execution_count": 29,
      "outputs": [
        {
          "output_type": "stream",
          "name": "stdout",
          "text": [
            "Model Structure : NeuralNetwork(\n",
            "  (flatten): Flatten(start_dim=1, end_dim=-1)\n",
            "  (linear_relu_stack): Sequential(\n",
            "    (0): Linear(in_features=784, out_features=512, bias=True)\n",
            "    (1): ReLU()\n",
            "    (2): Linear(in_features=512, out_features=512, bias=True)\n",
            "    (3): ReLU()\n",
            "    (4): Linear(in_features=512, out_features=10, bias=True)\n",
            "  )\n",
            ")\n",
            "\n",
            "\n",
            "Layer : linear_relu_stack.0.weight | Size : torch.Size([512, 784]) | Values : tensor([[ 0.0176,  0.0031,  0.0060,  ..., -0.0195, -0.0290, -0.0353],\n",
            "        [-0.0020,  0.0073,  0.0272,  ..., -0.0162, -0.0284,  0.0053]],\n",
            "       device='cuda:0', grad_fn=<SliceBackward0>) \n",
            "\n",
            "Layer : linear_relu_stack.0.bias | Size : torch.Size([512]) | Values : tensor([-0.0238,  0.0038], device='cuda:0', grad_fn=<SliceBackward0>) \n",
            "\n",
            "Layer : linear_relu_stack.2.weight | Size : torch.Size([512, 512]) | Values : tensor([[ 0.0244, -0.0282,  0.0178,  ...,  0.0329, -0.0338,  0.0159],\n",
            "        [-0.0030,  0.0359, -0.0231,  ...,  0.0195,  0.0251, -0.0292]],\n",
            "       device='cuda:0', grad_fn=<SliceBackward0>) \n",
            "\n",
            "Layer : linear_relu_stack.2.bias | Size : torch.Size([512]) | Values : tensor([-0.0339,  0.0227], device='cuda:0', grad_fn=<SliceBackward0>) \n",
            "\n",
            "Layer : linear_relu_stack.4.weight | Size : torch.Size([10, 512]) | Values : tensor([[ 0.0404,  0.0327,  0.0293,  ...,  0.0294, -0.0183,  0.0092],\n",
            "        [-0.0370,  0.0240, -0.0347,  ..., -0.0032, -0.0095, -0.0419]],\n",
            "       device='cuda:0', grad_fn=<SliceBackward0>) \n",
            "\n",
            "Layer : linear_relu_stack.4.bias | Size : torch.Size([10]) | Values : tensor([0.0315, 0.0237], device='cuda:0', grad_fn=<SliceBackward0>) \n",
            "\n"
          ]
        }
      ]
    }
  ]
}