{
  "nbformat": 4,
  "nbformat_minor": 0,
  "metadata": {
    "colab": {
      "provenance": [],
      "authorship_tag": "ABX9TyOy0MpfXMHHk3TZRyo1EcTH",
      "include_colab_link": true
    },
    "kernelspec": {
      "name": "python3",
      "display_name": "Python 3"
    },
    "language_info": {
      "name": "python"
    }
  },
  "cells": [
    {
      "cell_type": "markdown",
      "metadata": {
        "id": "view-in-github",
        "colab_type": "text"
      },
      "source": [
        "<a href=\"https://colab.research.google.com/github/soyoonjeong/PyTorch_Tutorial/blob/main/Transform.ipynb\" target=\"_parent\"><img src=\"https://colab.research.google.com/assets/colab-badge.svg\" alt=\"Open In Colab\"/></a>"
      ]
    },
    {
      "cell_type": "markdown",
      "source": [
        "변형(transform)을 통하여 데이터를 조작하고 학습에 적합하도록 만들 수 있음"
      ],
      "metadata": {
        "id": "9anJuhun5SSG"
      }
    },
    {
      "cell_type": "code",
      "execution_count": null,
      "metadata": {
        "id": "D0FtO8bi5L0K"
      },
      "outputs": [],
      "source": [
        "import torch\n",
        "from torchvision import datasets\n",
        "from torchvision.transforms import ToTensor, Lambda\n",
        "\n",
        "ds = datasets.FashionMNIST(\n",
        "    root = 'data',\n",
        "    train = True,\n",
        "    download = True,\n",
        "    transform = ToTensor(), # PIL Image 형식 -> 텐서 형태\n",
        "    target_transform = Lambda(lambda y : torch.zeros(10, dtpye = torch.float),scatter_(0, torch_tensor(y), value = 1)) # 정수 -> 원 핫 인코딩된 텐서 형태\n",
        "    # scatter_를 호출하여 주어진 정답 y에 해당하는 인덱스에 value=1을 할당\n",
        ")"
      ]
    },
    {
      "cell_type": "markdown",
      "source": [
        "functional transform을 사용하여 사용자 정의 동작으로 변환 클래스를 구축할 수 있음"
      ],
      "metadata": {
        "id": "xnLV0S_o8QYC"
      }
    },
    {
      "cell_type": "code",
      "source": [
        "import torchvision.transforms.functional as TF\n",
        "import random\n",
        "\n",
        "class MyRotationTransform:\n",
        "  def __init__(self, angles):\n",
        "    self.angles = angles\n",
        "  def __call__(self, x):\n",
        "    angle = random.choice(self.angles)\n",
        "    return TF.rotate(x, angle)\n",
        "\n",
        "rotation_transform = MyRotationTransform(angles = [-30, -15, 0, 15, 30])"
      ],
      "metadata": {
        "id": "CAUtdehD8X3b"
      },
      "execution_count": null,
      "outputs": []
    }
  ]
}