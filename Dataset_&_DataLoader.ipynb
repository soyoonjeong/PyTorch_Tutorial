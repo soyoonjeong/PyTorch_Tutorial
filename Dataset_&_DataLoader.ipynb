{
  "nbformat": 4,
  "nbformat_minor": 0,
  "metadata": {
    "colab": {
      "provenance": [],
      "toc_visible": true,
      "authorship_tag": "ABX9TyOo7aKwNtoJc1nOQedjqV3I",
      "include_colab_link": true
    },
    "kernelspec": {
      "name": "python3",
      "display_name": "Python 3"
    },
    "language_info": {
      "name": "python"
    }
  },
  "cells": [
    {
      "cell_type": "markdown",
      "metadata": {
        "id": "view-in-github",
        "colab_type": "text"
      },
      "source": [
        "<a href=\"https://colab.research.google.com/github/soyoonjeong/PyTorch_Tutorial/blob/main/Dataset_%26_DataLoader.ipynb\" target=\"_parent\"><img src=\"https://colab.research.google.com/assets/colab-badge.svg\" alt=\"Open In Colab\"/></a>"
      ]
    },
    {
      "cell_type": "markdown",
      "source": [
        "- 더 나은 가독성과 모듈성을 위해 데이터셋 코드를 모델 학습 코드로부터 분리하는 것이 이상적\n",
        "- torch.utils.data.DataLoader와 torch.utils.data.Dataset을 통해 미리 준비해둔 데이터셋 뿐만 아니라 가지고 있는 데이터를 사용할 수 있도록 함\n",
        "- Dataset은 샘플과 정답(label)을 저장하고 DataLoader은 Dataset을 샘플에 쉽게 접근할 수 있도록 순회 가능한 객체로 감쌉니다."
      ],
      "metadata": {
        "id": "bzjkBkJsDGp9"
      }
    },
    {
      "cell_type": "markdown",
      "source": [
        "## 데이터셋 불러오기"
      ],
      "metadata": {
        "id": "0lh1tUbBD6Aa"
      }
    },
    {
      "cell_type": "code",
      "execution_count": 3,
      "metadata": {
        "id": "OJin7zupC-Lw",
        "colab": {
          "base_uri": "https://localhost:8080/"
        },
        "outputId": "0e27a1a4-6385-4b28-ef10-c827f16d0dd2"
      },
      "outputs": [
        {
          "output_type": "stream",
          "name": "stdout",
          "text": [
            "Downloading http://fashion-mnist.s3-website.eu-central-1.amazonaws.com/train-images-idx3-ubyte.gz\n",
            "Downloading http://fashion-mnist.s3-website.eu-central-1.amazonaws.com/train-images-idx3-ubyte.gz to data/FashionMNIST/raw/train-images-idx3-ubyte.gz\n"
          ]
        },
        {
          "output_type": "stream",
          "name": "stderr",
          "text": [
            "100%|██████████| 26421880/26421880 [00:02<00:00, 11824701.38it/s]\n"
          ]
        },
        {
          "output_type": "stream",
          "name": "stdout",
          "text": [
            "Extracting data/FashionMNIST/raw/train-images-idx3-ubyte.gz to data/FashionMNIST/raw\n",
            "\n",
            "Downloading http://fashion-mnist.s3-website.eu-central-1.amazonaws.com/train-labels-idx1-ubyte.gz\n",
            "Downloading http://fashion-mnist.s3-website.eu-central-1.amazonaws.com/train-labels-idx1-ubyte.gz to data/FashionMNIST/raw/train-labels-idx1-ubyte.gz\n"
          ]
        },
        {
          "output_type": "stream",
          "name": "stderr",
          "text": [
            "100%|██████████| 29515/29515 [00:00<00:00, 202552.93it/s]\n"
          ]
        },
        {
          "output_type": "stream",
          "name": "stdout",
          "text": [
            "Extracting data/FashionMNIST/raw/train-labels-idx1-ubyte.gz to data/FashionMNIST/raw\n",
            "\n",
            "Downloading http://fashion-mnist.s3-website.eu-central-1.amazonaws.com/t10k-images-idx3-ubyte.gz\n",
            "Downloading http://fashion-mnist.s3-website.eu-central-1.amazonaws.com/t10k-images-idx3-ubyte.gz to data/FashionMNIST/raw/t10k-images-idx3-ubyte.gz\n"
          ]
        },
        {
          "output_type": "stream",
          "name": "stderr",
          "text": [
            "100%|██████████| 4422102/4422102 [00:01<00:00, 3803423.91it/s]\n"
          ]
        },
        {
          "output_type": "stream",
          "name": "stdout",
          "text": [
            "Extracting data/FashionMNIST/raw/t10k-images-idx3-ubyte.gz to data/FashionMNIST/raw\n",
            "\n",
            "Downloading http://fashion-mnist.s3-website.eu-central-1.amazonaws.com/t10k-labels-idx1-ubyte.gz\n",
            "Downloading http://fashion-mnist.s3-website.eu-central-1.amazonaws.com/t10k-labels-idx1-ubyte.gz to data/FashionMNIST/raw/t10k-labels-idx1-ubyte.gz\n"
          ]
        },
        {
          "output_type": "stream",
          "name": "stderr",
          "text": [
            "100%|██████████| 5148/5148 [00:00<00:00, 3464742.78it/s]"
          ]
        },
        {
          "output_type": "stream",
          "name": "stdout",
          "text": [
            "Extracting data/FashionMNIST/raw/t10k-labels-idx1-ubyte.gz to data/FashionMNIST/raw\n",
            "\n"
          ]
        },
        {
          "output_type": "stream",
          "name": "stderr",
          "text": [
            "\n"
          ]
        }
      ],
      "source": [
        "import torch\n",
        "from torch.utils.data import Dataset\n",
        "from torchvision import datasets\n",
        "from torchvision.transforms import ToTensor\n",
        "import matplotlib.pyplot as plt\n",
        "\n",
        "training_data = datasets.FashionMNIST(\n",
        "    root = 'data', # root : 학습/테스트 데이터가 저장되는 경로\n",
        "    train = True, # 학습용 또는 테스트용 데이터셋 여부를 지정\n",
        "    download = True, # download = True는 root에 데이터가 없는 경우 인터넷에서 다운로드함\n",
        "    transform = ToTensor() # transform와 target_transform : 특징과 정답 변형 지정\n",
        ")\n",
        "\n",
        "test_data = datasets.FashionMNIST(\n",
        "    root = 'data',\n",
        "    train = False,\n",
        "    download = True,\n",
        "    transform = ToTensor()\n",
        ")"
      ]
    },
    {
      "cell_type": "markdown",
      "source": [
        "## 데이터셋을 순회하고 시각화하기"
      ],
      "metadata": {
        "id": "R5cWrIeXo4iz"
      }
    },
    {
      "cell_type": "code",
      "source": [
        "labels_map = {\n",
        "    0 : \"T-Shirt\",\n",
        "    1 : \"Trouser\",\n",
        "    2 : \"Pullover\",\n",
        "    3 : \"Dress\",\n",
        "    4 : \"Coat\",\n",
        "    5 : \"Sandal\",\n",
        "    6 : \"Shirt\",\n",
        "    7 : \"Sneakers\",\n",
        "    8 : \"Bag\",\n",
        "    9 : \"Ankle Boot\",\n",
        "}\n",
        "figure = plt.figure(figsize = (8, 8))\n",
        "cols, rows = 3, 3\n",
        "for i in range(1, cols * rows + 1):\n",
        "  sample_idx = torch.randint(len(training_data), size = (1,)).item() # torch.randint : 랜덤 텐서 출력\n",
        "  img, label = training_data[sample_idx]\n",
        "  figure.add_subplot(rows, cols, i)\n",
        "  plt.title(labels_map[label])\n",
        "  plt.axis(\"off\")\n",
        "  plt.imshow(img.squeeze(), cmap = \"gray\")\n",
        "plt.show()"
      ],
      "metadata": {
        "colab": {
          "base_uri": "https://localhost:8080/",
          "height": 675
        },
        "id": "LtQfMKNVovl7",
        "outputId": "7fe8c2c8-db4a-40c5-861c-8cc7b406e6d0"
      },
      "execution_count": 5,
      "outputs": [
        {
          "output_type": "display_data",
          "data": {
            "text/plain": [
              "<Figure size 800x800 with 9 Axes>"
            ],
            "image/png": "[encoded data removed]"
          },
          "metadata": {}
        }
      ]
    },
    {
      "cell_type": "markdown",
      "source": [
        "## 파일에서 사용자 정의 데이터셋 만들기"
      ],
      "metadata": {
        "id": "wKNXZ7R4q86J"
      }
    },
    {
      "cell_type": "markdown",
      "source": [
        "사용자 정의 Dataset 클래스는 \\_\\_init__, \\_\\_len__, \\_\\_getitem__ 세 개의 함수를 구현해야 함\n",
        "\n",
        "- \\_\\_init__ 함수 : Dataset 객체가 생성될 때 한 번만 실행됨, 이미지와 주석 파일이 포함된 디렉토리와 두 가지 변형을 초기화함\n",
        "- \\_\\_len__ 함수 : 데이터셋의 샘플 개수 반환\n",
        "- \\_\\_getitem__ 함수 : 주어진 인덱스 idx에 해당하는 샘플을 데이터셋에서 불러오고 반환함"
      ],
      "metadata": {
        "id": "_Nagmn4vsuop"
      }
    },
    {
      "cell_type": "code",
      "source": [
        "import os\n",
        "import pandas as pd\n",
        "from torchvision.io import read_image\n",
        "from torch.utils.data import Dataset\n",
        "\n",
        "class CustomImageDataset(Dataset):\n",
        "  def __init__(self, annotations_file, img_dir, transform = None, target_transform = None):\n",
        "    self.img_labels = pd.read_csv(annotations_file, names = ['file_names', 'label']) # 정답은 annotation_file csv 파일에 별도로 저장됨\n",
        "    self.img_dir = img_dir # FashionMNIST 이미지들은 img_dir 디렉토리에 저장됨\n",
        "    self.transform = transform\n",
        "    self.target_transform = target_transform\n",
        "\n",
        "  def __len__(self):\n",
        "    return len(self.img_labels)\n",
        "\n",
        "  def __getitem__(self, idx):\n",
        "    img_path = os.path.join(self.img_dir, self.img_labels.iloc[idx, 0])\n",
        "    image = read_image(img_path) # 이미지를 텐서로 변환\n",
        "    label = self.img_labels.iloc[idx, 1]\n",
        "    if self.transform:\n",
        "      image = self.transform(image)\n",
        "    if self.target_transform:\n",
        "      label = self.target_transform(label)\n",
        "\n",
        "    return image, label\n"
      ],
      "metadata": {
        "id": "ET8jH4U_q_kF"
      },
      "execution_count": 7,
      "outputs": []
    },
    {
      "cell_type": "markdown",
      "source": [
        "## DataLoader로 학습용 데이터 준비하기"
      ],
      "metadata": {
        "id": "LVC_3Qp42MmT"
      }
    },
    {
      "cell_type": "markdown",
      "source": [
        "- Dataset은 데이터셋의 특징을 가져오고 하나의 샘플에 정답을 지정하는 일을 한 번에 함, 모델을 학습할 때는 일반적으로 샘플들을 미니배치로 전달하고 매 에폭마다 데이터를 다시 섞어서 과적합을 막습니다.\n",
        "- DataLoader는 간단한 API로 위의 복잡한 과정들을 추상화한 순회 가능한 객체\n"
      ],
      "metadata": {
        "id": "0dEH7cvI2bL3"
      }
    },
    {
      "cell_type": "code",
      "source": [
        "from torch.utils.data import DataLoader\n",
        "\n",
        "train_dataloader = DataLoader(training_data, batch_size = 64, shuffle = True)\n",
        "test_dataloader = DataLoader(test_data, batch_size = 64, shuffle = True)"
      ],
      "metadata": {
        "id": "794MkHKi28Yn"
      },
      "execution_count": 8,
      "outputs": []
    },
    {
      "cell_type": "markdown",
      "source": [
        "## DataLoader를 통해 순회하기"
      ],
      "metadata": {
        "id": "U4TfoNm-3aaL"
      }
    },
    {
      "cell_type": "code",
      "source": [
        "train_features, train_labels = next(iter(train_dataloader)) # 미니배치 하나씩\n",
        "print(f\"Feature batch shape : {train_features.size()}\")\n",
        "print(f\"Labels batch shape : {train_labels.size()}\")\n",
        "img = train_features[0].squeeze()\n",
        "label = train_labels[0]\n",
        "plt.imshow(img, cmap = 'gray')\n",
        "plt.show()\n",
        "print(f\"Label : {label}\")"
      ],
      "metadata": {
        "colab": {
          "base_uri": "https://localhost:8080/",
          "height": 482
        },
        "id": "unBhTFHs3g17",
        "outputId": "2390293f-5cb5-4cde-e34f-ddf74dd55626"
      },
      "execution_count": 9,
      "outputs": [
        {
          "output_type": "stream",
          "name": "stdout",
          "text": [
            "Feature batch shape : torch.Size([64, 1, 28, 28])\n",
            "Labels batch shape : torch.Size([64])\n"
          ]
        },
        {
          "output_type": "display_data",
          "data": {
            "text/plain": [
              "<Figure size 640x480 with 1 Axes>"
            ],
            "image/png": "[encoded data removed]"
          },
          "metadata": {}
        },
        {
          "output_type": "stream",
          "name": "stdout",
          "text": [
            "Label : 1\n"
          ]
        }
      ]
    }
  ]
}